{
 "cells": [
  {
   "cell_type": "code",
   "execution_count": 1,
   "metadata": {},
   "outputs": [],
   "source": [
    "import pandas as pd\n",
    "import statistics\n",
    "import sqlite3\n",
    "import locale\n",
    "from decimal import Decimal"
   ]
  },
  {
   "cell_type": "code",
   "execution_count": 2,
   "metadata": {},
   "outputs": [
    {
     "ename": "OperationalError",
     "evalue": "table pj already exists",
     "output_type": "error",
     "traceback": [
      "\u001b[1;31m---------------------------------------------------------------------------\u001b[0m",
      "\u001b[1;31mOperationalError\u001b[0m                          Traceback (most recent call last)",
      "\u001b[1;32mc:\\Users\\IMendes_41\\OneDrive\\Preto-Bras\\test-bd.ipynb Cell 2\u001b[0m line \u001b[0;36m8\n\u001b[0;32m      <a href='vscode-notebook-cell:/c%3A/Users/IMendes_41/OneDrive/Preto-Bras/test-bd.ipynb#W1sZmlsZQ%3D%3D?line=4'>5</a>\u001b[0m cursor \u001b[39m=\u001b[39m conn\u001b[39m.\u001b[39mcursor()\n\u001b[0;32m      <a href='vscode-notebook-cell:/c%3A/Users/IMendes_41/OneDrive/Preto-Bras/test-bd.ipynb#W1sZmlsZQ%3D%3D?line=6'>7</a>\u001b[0m \u001b[39m# Criar uma tabela no banco de dados (substitua isso com sua própria estrutura)\u001b[39;00m\n\u001b[1;32m----> <a href='vscode-notebook-cell:/c%3A/Users/IMendes_41/OneDrive/Preto-Bras/test-bd.ipynb#W1sZmlsZQ%3D%3D?line=7'>8</a>\u001b[0m cursor\u001b[39m.\u001b[39;49mexecute(\u001b[39m\"\"\"\u001b[39;49m\n\u001b[0;32m      <a href='vscode-notebook-cell:/c%3A/Users/IMendes_41/OneDrive/Preto-Bras/test-bd.ipynb#W1sZmlsZQ%3D%3D?line=8'>9</a>\u001b[0m \u001b[39m    CREATE TABLE pj (\u001b[39;49m\n\u001b[0;32m     <a href='vscode-notebook-cell:/c%3A/Users/IMendes_41/OneDrive/Preto-Bras/test-bd.ipynb#W1sZmlsZQ%3D%3D?line=9'>10</a>\u001b[0m \u001b[39m        Cnpj INTEGER PRIMARY KEY NOT NULL,\u001b[39;49m\n\u001b[0;32m     <a href='vscode-notebook-cell:/c%3A/Users/IMendes_41/OneDrive/Preto-Bras/test-bd.ipynb#W1sZmlsZQ%3D%3D?line=10'>11</a>\u001b[0m \u001b[39m        Nome TEXT NOT NULL,\u001b[39;49m\n\u001b[0;32m     <a href='vscode-notebook-cell:/c%3A/Users/IMendes_41/OneDrive/Preto-Bras/test-bd.ipynb#W1sZmlsZQ%3D%3D?line=11'>12</a>\u001b[0m \u001b[39m        Cidade TEXT NOT NULL,\u001b[39;49m\n\u001b[0;32m     <a href='vscode-notebook-cell:/c%3A/Users/IMendes_41/OneDrive/Preto-Bras/test-bd.ipynb#W1sZmlsZQ%3D%3D?line=12'>13</a>\u001b[0m \u001b[39m        Regiao TEXT NOT NULL,\u001b[39;49m\n\u001b[0;32m     <a href='vscode-notebook-cell:/c%3A/Users/IMendes_41/OneDrive/Preto-Bras/test-bd.ipynb#W1sZmlsZQ%3D%3D?line=13'>14</a>\u001b[0m \u001b[39m        Uf TEXT NOT NULL,\u001b[39;49m\n\u001b[0;32m     <a href='vscode-notebook-cell:/c%3A/Users/IMendes_41/OneDrive/Preto-Bras/test-bd.ipynb#W1sZmlsZQ%3D%3D?line=14'>15</a>\u001b[0m \u001b[39m        Cep INTEGER NOT NULL\u001b[39;49m\n\u001b[0;32m     <a href='vscode-notebook-cell:/c%3A/Users/IMendes_41/OneDrive/Preto-Bras/test-bd.ipynb#W1sZmlsZQ%3D%3D?line=15'>16</a>\u001b[0m \u001b[39m    )\u001b[39;49m\n\u001b[0;32m     <a href='vscode-notebook-cell:/c%3A/Users/IMendes_41/OneDrive/Preto-Bras/test-bd.ipynb#W1sZmlsZQ%3D%3D?line=16'>17</a>\u001b[0m \u001b[39m\"\"\"\u001b[39;49m)\n\u001b[0;32m     <a href='vscode-notebook-cell:/c%3A/Users/IMendes_41/OneDrive/Preto-Bras/test-bd.ipynb#W1sZmlsZQ%3D%3D?line=18'>19</a>\u001b[0m cursor\u001b[39m.\u001b[39mexecute(\u001b[39m\"\"\"\u001b[39m\n\u001b[0;32m     <a href='vscode-notebook-cell:/c%3A/Users/IMendes_41/OneDrive/Preto-Bras/test-bd.ipynb#W1sZmlsZQ%3D%3D?line=19'>20</a>\u001b[0m \u001b[39m    CREATE TABLE tabela_produtos (\u001b[39m\n\u001b[0;32m     <a href='vscode-notebook-cell:/c%3A/Users/IMendes_41/OneDrive/Preto-Bras/test-bd.ipynb#W1sZmlsZQ%3D%3D?line=20'>21</a>\u001b[0m \u001b[39m        ID INTEGER PRIMARY KEY NOT NULL,\u001b[39m\n\u001b[1;32m   (...)\u001b[0m\n\u001b[0;32m     <a href='vscode-notebook-cell:/c%3A/Users/IMendes_41/OneDrive/Preto-Bras/test-bd.ipynb#W1sZmlsZQ%3D%3D?line=30'>31</a>\u001b[0m \n\u001b[0;32m     <a href='vscode-notebook-cell:/c%3A/Users/IMendes_41/OneDrive/Preto-Bras/test-bd.ipynb#W1sZmlsZQ%3D%3D?line=31'>32</a>\u001b[0m \u001b[39m\"\"\"\u001b[39m)\n",
      "\u001b[1;31mOperationalError\u001b[0m: table pj already exists"
     ]
    }
   ],
   "source": [
    "# Criar uma conexão com o banco de dados SQLite (ou criar um novo arquivo se ele não existir)\n",
    "conn = sqlite3.connect(\"petrobras.db\")\n",
    "\n",
    "# Criar um cursor para executar comandos SQL\n",
    "cursor = conn.cursor()\n",
    "\n",
    "# Criar uma tabela no banco de dados (substitua isso com sua própria estrutura)\n",
    "cursor.execute(\"\"\"\n",
    "    CREATE TABLE pj (\n",
    "        Cnpj INTEGER PRIMARY KEY NOT NULL,\n",
    "        Nome TEXT NOT NULL,\n",
    "        Cidade TEXT NOT NULL,\n",
    "        Regiao TEXT NOT NULL,\n",
    "        Uf TEXT NOT NULL,\n",
    "        Cep INTEGER NOT NULL\n",
    "    )\n",
    "\"\"\")\n",
    "\n",
    "cursor.execute(\"\"\"\n",
    "    CREATE TABLE tabela_produtos (\n",
    "        ID INTEGER PRIMARY KEY NOT NULL,\n",
    "        Empresa_CNPJ INTEGER,\n",
    "        Produto TEXT NOT NULL,\n",
    "        Data_Coleta DATE NOT NULL,\n",
    "        Valor_Venda REAL NOT NULL,\n",
    "        Valor_Compra REAL NOT NULL,\n",
    "        Unidade_Medida TEXT NOT NULL,\n",
    "        Bandeira TEXT NOT NULL,\n",
    "        FOREIGN KEY (Empresa_CNPJ) REFERENCES pj(cnpj)\n",
    ");\n",
    "\n",
    "\"\"\")"
   ]
  },
  {
   "cell_type": "code",
   "execution_count": 4,
   "metadata": {},
   "outputs": [
    {
     "data": {
      "text/plain": [
       "14908"
      ]
     },
     "execution_count": 4,
     "metadata": {},
     "output_type": "execute_result"
    }
   ],
   "source": [
    "pathExcel = \"C:\\\\Users\\\\IMendes_41\\\\OneDrive\\\\Preto-Bras\\\\BaseDados\\\\Relatório_Combustiveis.xlsx\"\n",
    "        \n",
    "dt = pd.read_excel(pathExcel,  dtype={'cnpj': str})\n",
    "\n",
    "dt.to_sql(\"pj\", conn, if_exists=\"replace\", index=False)"
   ]
  },
  {
   "cell_type": "code",
   "execution_count": 26,
   "metadata": {},
   "outputs": [
    {
     "data": {
      "text/plain": [
       "101006"
      ]
     },
     "execution_count": 26,
     "metadata": {},
     "output_type": "execute_result"
    }
   ],
   "source": [
    "pathExcel = \".\\\\BaseDados\\Vendas.xlsx\"\n",
    "        \n",
    "dt = pd.read_excel(pathExcel,  dtype={'cnpj': str})\n",
    "\n",
    "dt.to_sql(\"tabela_produtos\", conn, if_exists=\"replace\", index=False)"
   ]
  },
  {
   "cell_type": "code",
   "execution_count": 27,
   "metadata": {},
   "outputs": [
    {
     "data": {
      "text/html": [
       "<div>\n",
       "<style scoped>\n",
       "    .dataframe tbody tr th:only-of-type {\n",
       "        vertical-align: middle;\n",
       "    }\n",
       "\n",
       "    .dataframe tbody tr th {\n",
       "        vertical-align: top;\n",
       "    }\n",
       "\n",
       "    .dataframe thead th {\n",
       "        text-align: right;\n",
       "    }\n",
       "</style>\n",
       "<table border=\"1\" class=\"dataframe\">\n",
       "  <thead>\n",
       "    <tr style=\"text-align: right;\">\n",
       "      <th></th>\n",
       "      <th>id</th>\n",
       "      <th>cnpj</th>\n",
       "      <th>produto</th>\n",
       "      <th>data</th>\n",
       "      <th>venda</th>\n",
       "      <th>compra</th>\n",
       "      <th>tipo</th>\n",
       "      <th>bandeira</th>\n",
       "    </tr>\n",
       "  </thead>\n",
       "  <tbody>\n",
       "    <tr>\n",
       "      <th>0</th>\n",
       "      <td>1</td>\n",
       "      <td>00003188000121</td>\n",
       "      <td>GASOLINA</td>\n",
       "      <td>1167879600</td>\n",
       "      <td>2.360</td>\n",
       "      <td>2.0560</td>\n",
       "      <td>R$ / litro</td>\n",
       "      <td>BRANCA</td>\n",
       "    </tr>\n",
       "    <tr>\n",
       "      <th>1</th>\n",
       "      <td>2</td>\n",
       "      <td>00003188000121</td>\n",
       "      <td>ETANOL</td>\n",
       "      <td>1167879600</td>\n",
       "      <td>1.160</td>\n",
       "      <td>0.9887</td>\n",
       "      <td>R$ / litro</td>\n",
       "      <td>BRANCA</td>\n",
       "    </tr>\n",
       "    <tr>\n",
       "      <th>2</th>\n",
       "      <td>3</td>\n",
       "      <td>00003188000121</td>\n",
       "      <td>DIESEL</td>\n",
       "      <td>1167879600</td>\n",
       "      <td>1.790</td>\n",
       "      <td>1.6250</td>\n",
       "      <td>R$ / litro</td>\n",
       "      <td>BRANCA</td>\n",
       "    </tr>\n",
       "    <tr>\n",
       "      <th>3</th>\n",
       "      <td>4</td>\n",
       "      <td>34274233001338</td>\n",
       "      <td>GASOLINA</td>\n",
       "      <td>1167879600</td>\n",
       "      <td>2.499</td>\n",
       "      <td>2.2348</td>\n",
       "      <td>R$ / litro</td>\n",
       "      <td>PETROBRAS DISTRIBUIDORA S.A.</td>\n",
       "    </tr>\n",
       "    <tr>\n",
       "      <th>4</th>\n",
       "      <td>5</td>\n",
       "      <td>34274233001338</td>\n",
       "      <td>ETANOL</td>\n",
       "      <td>1167879600</td>\n",
       "      <td>1.699</td>\n",
       "      <td>1.4842</td>\n",
       "      <td>R$ / litro</td>\n",
       "      <td>PETROBRAS DISTRIBUIDORA S.A.</td>\n",
       "    </tr>\n",
       "    <tr>\n",
       "      <th>...</th>\n",
       "      <td>...</td>\n",
       "      <td>...</td>\n",
       "      <td>...</td>\n",
       "      <td>...</td>\n",
       "      <td>...</td>\n",
       "      <td>...</td>\n",
       "      <td>...</td>\n",
       "      <td>...</td>\n",
       "    </tr>\n",
       "    <tr>\n",
       "      <th>101001</th>\n",
       "      <td>101002</td>\n",
       "      <td>81844789000169</td>\n",
       "      <td>GASOLINA</td>\n",
       "      <td>1169434800</td>\n",
       "      <td>2.650</td>\n",
       "      <td>2.1000</td>\n",
       "      <td>R$ / litro</td>\n",
       "      <td>BRANCA</td>\n",
       "    </tr>\n",
       "    <tr>\n",
       "      <th>101002</th>\n",
       "      <td>101003</td>\n",
       "      <td>81844789000169</td>\n",
       "      <td>ETANOL</td>\n",
       "      <td>1169434800</td>\n",
       "      <td>1.799</td>\n",
       "      <td>1.5400</td>\n",
       "      <td>R$ / litro</td>\n",
       "      <td>BRANCA</td>\n",
       "    </tr>\n",
       "    <tr>\n",
       "      <th>101003</th>\n",
       "      <td>101004</td>\n",
       "      <td>81844789000169</td>\n",
       "      <td>DIESEL</td>\n",
       "      <td>1169434800</td>\n",
       "      <td>1.960</td>\n",
       "      <td>1.7249</td>\n",
       "      <td>R$ / litro</td>\n",
       "      <td>BRANCA</td>\n",
       "    </tr>\n",
       "    <tr>\n",
       "      <th>101004</th>\n",
       "      <td>101005</td>\n",
       "      <td>80114879000212</td>\n",
       "      <td>GASOLINA</td>\n",
       "      <td>1169434800</td>\n",
       "      <td>2.667</td>\n",
       "      <td>2.1885</td>\n",
       "      <td>R$ / litro</td>\n",
       "      <td>PETROBRAS DISTRIBUIDORA S.A.</td>\n",
       "    </tr>\n",
       "    <tr>\n",
       "      <th>101005</th>\n",
       "      <td>101006</td>\n",
       "      <td>80114879000212</td>\n",
       "      <td>ETANOL</td>\n",
       "      <td>1169434800</td>\n",
       "      <td>1.847</td>\n",
       "      <td>1.5295</td>\n",
       "      <td>R$ / litro</td>\n",
       "      <td>PETROBRAS DISTRIBUIDORA S.A.</td>\n",
       "    </tr>\n",
       "  </tbody>\n",
       "</table>\n",
       "<p>101006 rows × 8 columns</p>\n",
       "</div>"
      ],
      "text/plain": [
       "            id            cnpj   produto        data  venda  compra  \\\n",
       "0            1  00003188000121  GASOLINA  1167879600  2.360  2.0560   \n",
       "1            2  00003188000121    ETANOL  1167879600  1.160  0.9887   \n",
       "2            3  00003188000121    DIESEL  1167879600  1.790  1.6250   \n",
       "3            4  34274233001338  GASOLINA  1167879600  2.499  2.2348   \n",
       "4            5  34274233001338    ETANOL  1167879600  1.699  1.4842   \n",
       "...        ...             ...       ...         ...    ...     ...   \n",
       "101001  101002  81844789000169  GASOLINA  1169434800  2.650  2.1000   \n",
       "101002  101003  81844789000169    ETANOL  1169434800  1.799  1.5400   \n",
       "101003  101004  81844789000169    DIESEL  1169434800  1.960  1.7249   \n",
       "101004  101005  80114879000212  GASOLINA  1169434800  2.667  2.1885   \n",
       "101005  101006  80114879000212    ETANOL  1169434800  1.847  1.5295   \n",
       "\n",
       "              tipo                      bandeira  \n",
       "0       R$ / litro                        BRANCA  \n",
       "1       R$ / litro                        BRANCA  \n",
       "2       R$ / litro                        BRANCA  \n",
       "3       R$ / litro  PETROBRAS DISTRIBUIDORA S.A.  \n",
       "4       R$ / litro  PETROBRAS DISTRIBUIDORA S.A.  \n",
       "...            ...                           ...  \n",
       "101001  R$ / litro                        BRANCA  \n",
       "101002  R$ / litro                        BRANCA  \n",
       "101003  R$ / litro                        BRANCA  \n",
       "101004  R$ / litro  PETROBRAS DISTRIBUIDORA S.A.  \n",
       "101005  R$ / litro  PETROBRAS DISTRIBUIDORA S.A.  \n",
       "\n",
       "[101006 rows x 8 columns]"
      ]
     },
     "execution_count": 27,
     "metadata": {},
     "output_type": "execute_result"
    }
   ],
   "source": [
    "consulta = \"\"\"SELECT *\n",
    "FROM tabela_produtos\n",
    "\"\"\"\n",
    "# Exibir os resultados da consulta\n",
    "resultados = pd.read_sql(consulta, conn)\n",
    "resultados"
   ]
  },
  {
   "cell_type": "code",
   "execution_count": 12,
   "metadata": {},
   "outputs": [],
   "source": [
    "def FormatNumber(number):\n",
    "        from locale import setlocale, format_string, LC_ALL\n",
    "        \n",
    "        setlocale(LC_ALL, '')\n",
    "        number = format_string('%d', int(number), grouping=True)\n",
    "\n",
    "        num_pontos = number.count('.')\n",
    "        splitNumber = str(number).split('.')\n",
    "\n",
    "        match num_pontos:\n",
    "            case 1:\n",
    "                number = splitNumber[0] + ' Mil'\n",
    "                return number\n",
    "            case 2:\n",
    "                number = splitNumber[0] + ' Mi'\n",
    "                return number\n",
    "            case _:\n",
    "                return number"
   ]
  },
  {
   "cell_type": "code",
   "execution_count": 13,
   "metadata": {},
   "outputs": [
    {
     "name": "stdout",
     "output_type": "stream",
     "text": [
      "207 Mil\n"
     ]
    }
   ],
   "source": [
    "# -------------------------------------------------------------------------\n",
    "#                           FATURAMENTO\n",
    "# -------------------------------------------------------------------------\n",
    "\n",
    "consulta = f\"SELECT SUM(venda) FROM tabela_produtos\"\n",
    "\n",
    "# Executar a consulta\n",
    "cursor.execute(consulta)\n",
    "\n",
    "# Recuperar os resultados\n",
    "resultados = cursor.fetchall()\n",
    "\n",
    "# Exibir os nomes das colunas\n",
    "faturamento = resultados[0][0]\n",
    "\n",
    "print(FormatNumber(faturamento))"
   ]
  },
  {
   "cell_type": "code",
   "execution_count": 14,
   "metadata": {},
   "outputs": [
    {
     "name": "stdout",
     "output_type": "stream",
     "text": [
      "28 Mil\n"
     ]
    }
   ],
   "source": [
    "# -------------------------------------------------------------------------\n",
    "#                           LUCRO\n",
    "# -------------------------------------------------------------------------\n",
    "\n",
    "consulta = f\"SELECT SUM(venda - compra) FROM tabela_produtos\"\n",
    "\n",
    "# Executar a consulta\n",
    "cursor.execute(consulta)\n",
    "\n",
    "# Recuperar os resultados\n",
    "resultados = cursor.fetchall()\n",
    "\n",
    "locale.setlocale(locale.LC_ALL, '')\n",
    "\n",
    "# Exibir os nomes das colunas\n",
    "lucro = resultados[0][0]\n",
    "\n",
    "print(FormatNumber(lucro))\n"
   ]
  },
  {
   "cell_type": "code",
   "execution_count": 15,
   "metadata": {},
   "outputs": [
    {
     "name": "stdout",
     "output_type": "stream",
     "text": [
      "14 Mil\n"
     ]
    }
   ],
   "source": [
    "# -------------------------------------------------------------------------\n",
    "#                           QUANTIDADE DE POSTOS\n",
    "# -------------------------------------------------------------------------\n",
    "consulta = f\"SELECT COUNT(cnpj) FROM pj\"\n",
    "\n",
    "# Executar a consulta\n",
    "cursor.execute(consulta)\n",
    "\n",
    "# Recuperar os resultados\n",
    "resultados = cursor.fetchall()\n",
    "\n",
    "contagemPostos = resultados[0][0]\n",
    "\n",
    "print(FormatNumber(contagemPostos))\n"
   ]
  },
  {
   "cell_type": "code",
   "execution_count": 16,
   "metadata": {},
   "outputs": [],
   "source": [
    "# -------------------------------------------------------------------------\n",
    "#                           ESTADO MAIS LUCRATIVO\n",
    "# -------------------------------------------------------------------------\n",
    "\n",
    "consulta =  f\"\"\"SELECT SUM(t1.venda - t1.compra),\n",
    "                    t2.uf\n",
    "                FROM tabela_produtos t1\n",
    "                INNER JOIN pj t2 ON t1.cnpj = t2.Cnpj\n",
    "                GROUP BY 2\n",
    "                ORDER BY 1 DESC\n",
    "                LIMIT 1\"\"\"\n",
    "\n",
    "# Executar a consulta\n",
    "cursor.execute(consulta)\n",
    "\n",
    "# Recuperar os resultados\n",
    "resultados = cursor.fetchall()\n",
    "\n",
    "estado = resultados[0][1]"
   ]
  },
  {
   "cell_type": "code",
   "execution_count": 68,
   "metadata": {},
   "outputs": [
    {
     "data": {
      "text/plain": [
       "['2 Mil',\n",
       " '4 Mil',\n",
       " '1 Mil',\n",
       " '1 Mil',\n",
       " '2 Mil',\n",
       " '4 Mil',\n",
       " '45',\n",
       " '1 Mil',\n",
       " '2 Mil',\n",
       " '3 Mil',\n",
       " '726',\n",
       " '472',\n",
       " '958',\n",
       " '1 Mil',\n",
       " '993']"
      ]
     },
     "execution_count": 68,
     "metadata": {},
     "output_type": "execute_result"
    }
   ],
   "source": [
    "# -------------------------------------------------------------------------\n",
    "#                           GRAFICO DE LINHAS\n",
    "# -------------------------------------------------------------------------\n",
    "\n",
    "consulta =  f\"\"\"SELECT SUM(venda - compra),\n",
    "                    strftime('%d', data, 'unixepoch')\n",
    "                FROM tabela_produtos\n",
    "                GROUP BY 2\n",
    "                ORDER BY 2\n",
    "                \"\"\"\n",
    "\n",
    "# Executar a consulta\n",
    "cursor.execute(consulta)\n",
    "\n",
    "# Recuperar os resultados\n",
    "resultados = cursor.fetchall()\n",
    "\n",
    "lucro = []\n",
    "dia = []\n",
    "\n",
    "for resultado in resultados:\n",
    "    valor = FormatNumber(resultado[0])\n",
    "    lucro.append(valor)\n",
    "    dia.append(int(resultado[1]))\n",
    "\n",
    "lucro\n"
   ]
  },
  {
   "cell_type": "code",
   "execution_count": 66,
   "metadata": {},
   "outputs": [
    {
     "data": {
      "text/plain": [
       "['COMERCIAL SANTA',\n",
       " 'JOSE OTONIO',\n",
       " 'CARREFOUR COMERCIO',\n",
       " 'SETE ESTRELAS',\n",
       " 'ARARA AZUL',\n",
       " 'POSTOS LIBERDADE',\n",
       " 'ABASTECEDORA ABM',\n",
       " 'PETROBRAS DISTRIBUIDORA',\n",
       " 'COMERCIAL BUFFON',\n",
       " 'SOBRAL &']"
      ]
     },
     "execution_count": 66,
     "metadata": {},
     "output_type": "execute_result"
    }
   ],
   "source": [
    "# -------------------------------------------------------------------------\n",
    "#                           GRAFICO DE BARRAS\n",
    "# -------------------------------------------------------------------------\n",
    "\n",
    "consulta =  f\"\"\"SELECT SUM(t1.venda - t1.compra) as lucro,\n",
    "                    t2.nome\n",
    "                FROM tabela_produtos t1\n",
    "                INNER JOIN pj t2 ON t1.cnpj = t2.Cnpj\n",
    "                GROUP BY 2\n",
    "                ORDER BY 1 DESC\n",
    "                LIMIT 10\"\"\"\n",
    "\n",
    "# Executar a consulta\n",
    "cursor.execute(consulta)\n",
    "\n",
    "# Recuperar os resultados\n",
    "resultados = cursor.fetchall()\n",
    "\n",
    "lucro = []\n",
    "empresa = []\n",
    "\n",
    "for resultado in resultados:\n",
    "    valor = FormatNumber(resultado[0])\n",
    "    lucro.append(valor)\n",
    "\n",
    "    empresaSplit = resultado[1].split()\n",
    "    razaoSocial = ' '.join(empresaSplit[:2])\n",
    "    empresa.append(razaoSocial)\n"
   ]
  }
 ],
 "metadata": {
  "kernelspec": {
   "display_name": "Python 3",
   "language": "python",
   "name": "python3"
  },
  "language_info": {
   "codemirror_mode": {
    "name": "ipython",
    "version": 3
   },
   "file_extension": ".py",
   "mimetype": "text/x-python",
   "name": "python",
   "nbconvert_exporter": "python",
   "pygments_lexer": "ipython3",
   "version": "3.11.5"
  },
  "orig_nbformat": 4
 },
 "nbformat": 4,
 "nbformat_minor": 2
}
